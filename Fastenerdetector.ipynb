{
 "cells": [
  {
   "cell_type": "code",
   "execution_count": null,
   "metadata": {
    "_cell_guid": "b1076dfc-b9ad-4769-8c92-a6c4dae69d19",
    "_uuid": "8f2839f25d086af736a60e9eeb907d3b93b6e0e5"
   },
   "outputs": [],
   "source": []
  },
  {
   "cell_type": "code",
   "execution_count": 4,
   "metadata": {
    "execution": {
     "iopub.execute_input": "2022-04-11T06:19:06.541124Z",
     "iopub.status.busy": "2022-04-11T06:19:06.540803Z",
     "iopub.status.idle": "2022-04-11T06:19:06.548970Z",
     "shell.execute_reply": "2022-04-11T06:19:06.548087Z",
     "shell.execute_reply.started": "2022-04-11T06:19:06.541084Z"
    }
   },
   "outputs": [
    {
     "ename": "ModuleNotFoundError",
     "evalue": "No module named 'tensorflow'",
     "output_type": "error",
     "traceback": [
      "\u001b[1;31m---------------------------------------------------------------------------\u001b[0m",
      "\u001b[1;31mModuleNotFoundError\u001b[0m                       Traceback (most recent call last)",
      "\u001b[1;32m<ipython-input-4-a360477c3d74>\u001b[0m in \u001b[0;36m<module>\u001b[1;34m\u001b[0m\n\u001b[0;32m      9\u001b[0m \u001b[1;32mimport\u001b[0m \u001b[0mmatplotlib\u001b[0m\u001b[1;33m.\u001b[0m\u001b[0mpyplot\u001b[0m \u001b[1;32mas\u001b[0m \u001b[0mplt\u001b[0m\u001b[1;33m\u001b[0m\u001b[1;33m\u001b[0m\u001b[0m\n\u001b[0;32m     10\u001b[0m \u001b[1;32mfrom\u001b[0m \u001b[0msklearn\u001b[0m\u001b[1;33m.\u001b[0m\u001b[0mmodel_selection\u001b[0m \u001b[1;32mimport\u001b[0m \u001b[0mtrain_test_split\u001b[0m\u001b[1;33m\u001b[0m\u001b[1;33m\u001b[0m\u001b[0m\n\u001b[1;32m---> 11\u001b[1;33m \u001b[1;32mfrom\u001b[0m \u001b[0mkeras\u001b[0m \u001b[1;32mimport\u001b[0m \u001b[0mapplications\u001b[0m\u001b[1;33m\u001b[0m\u001b[1;33m\u001b[0m\u001b[0m\n\u001b[0m\u001b[0;32m     12\u001b[0m \u001b[1;32mfrom\u001b[0m \u001b[0mtensorflow\u001b[0m \u001b[1;32mimport\u001b[0m \u001b[0mkeras\u001b[0m\u001b[1;33m\u001b[0m\u001b[1;33m\u001b[0m\u001b[0m\n\u001b[0;32m     13\u001b[0m \u001b[1;32mfrom\u001b[0m \u001b[0mkeras\u001b[0m\u001b[1;33m.\u001b[0m\u001b[0mlayers\u001b[0m \u001b[1;32mimport\u001b[0m \u001b[0mDense\u001b[0m\u001b[1;33m,\u001b[0m \u001b[0mActivation\u001b[0m\u001b[1;33m,\u001b[0m \u001b[0mFlatten\u001b[0m\u001b[1;33m,\u001b[0m \u001b[0mConv2D\u001b[0m\u001b[1;33m,\u001b[0m \u001b[0mMaxPooling2D\u001b[0m\u001b[1;33m\u001b[0m\u001b[1;33m\u001b[0m\u001b[0m\n",
      "\u001b[1;32m~\\anaconda3\\lib\\site-packages\\keras\\__init__.py\u001b[0m in \u001b[0;36m<module>\u001b[1;34m\u001b[0m\n\u001b[0;32m     19\u001b[0m \"\"\"\n\u001b[0;32m     20\u001b[0m \u001b[1;31m# pylint: disable=unused-import\u001b[0m\u001b[1;33m\u001b[0m\u001b[1;33m\u001b[0m\u001b[1;33m\u001b[0m\u001b[0m\n\u001b[1;32m---> 21\u001b[1;33m \u001b[1;32mfrom\u001b[0m \u001b[0mtensorflow\u001b[0m\u001b[1;33m.\u001b[0m\u001b[0mpython\u001b[0m \u001b[1;32mimport\u001b[0m \u001b[0mtf2\u001b[0m\u001b[1;33m\u001b[0m\u001b[1;33m\u001b[0m\u001b[0m\n\u001b[0m\u001b[0;32m     22\u001b[0m \u001b[1;32mfrom\u001b[0m \u001b[0mkeras\u001b[0m \u001b[1;32mimport\u001b[0m \u001b[0mdistribute\u001b[0m\u001b[1;33m\u001b[0m\u001b[1;33m\u001b[0m\u001b[0m\n\u001b[0;32m     23\u001b[0m \u001b[1;33m\u001b[0m\u001b[0m\n",
      "\u001b[1;31mModuleNotFoundError\u001b[0m: No module named 'tensorflow'"
     ]
    }
   ],
   "source": [
    "from PIL import Image\n",
    "from skimage.io import imread\n",
    "from skimage.transform import rescale, resize\n",
    "import os\n",
    "import glob\n",
    "import string\n",
    "import pandas as pd\n",
    "import numpy as np\n",
    "import matplotlib.pyplot as plt\n",
    "from sklearn.model_selection import train_test_split\n",
    "from keras import applications\n",
    "from tensorflow import keras\n",
    "from keras.layers import Dense, Activation, Flatten, Conv2D, MaxPooling2D\n",
    "from keras.models import Sequential\n",
    "from tensorflow.keras.utils import to_categorical\n",
    "from sklearn.metrics import confusion_matrix\n",
    "import seaborn as sn"
   ]
  },
  {
   "cell_type": "code",
   "execution_count": 5,
   "metadata": {
    "execution": {
     "iopub.execute_input": "2022-04-11T06:27:53.465927Z",
     "iopub.status.busy": "2022-04-11T06:27:53.464943Z",
     "iopub.status.idle": "2022-04-11T06:27:53.469775Z",
     "shell.execute_reply": "2022-04-11T06:27:53.468927Z",
     "shell.execute_reply.started": "2022-04-11T06:27:53.465877Z"
    }
   },
   "outputs": [],
   "source": [
    "os.chdir('./')"
   ]
  },
  {
   "cell_type": "code",
   "execution_count": 6,
   "metadata": {
    "execution": {
     "iopub.execute_input": "2022-04-11T06:28:07.995950Z",
     "iopub.status.busy": "2022-04-11T06:28:07.995310Z",
     "iopub.status.idle": "2022-04-11T06:28:08.005084Z",
     "shell.execute_reply": "2022-04-11T06:28:08.004311Z",
     "shell.execute_reply.started": "2022-04-11T06:28:07.995902Z"
    }
   },
   "outputs": [
    {
     "ename": "FileNotFoundError",
     "evalue": "[WinError 3] The system cannot find the path specified: '/kaggle/input/newdata/blnw-images-224'",
     "output_type": "error",
     "traceback": [
      "\u001b[1;31m---------------------------------------------------------------------------\u001b[0m",
      "\u001b[1;31mFileNotFoundError\u001b[0m                         Traceback (most recent call last)",
      "\u001b[1;32m<ipython-input-6-aa9f4904d340>\u001b[0m in \u001b[0;36m<module>\u001b[1;34m\u001b[0m\n\u001b[0;32m      1\u001b[0m \u001b[0mpath\u001b[0m  \u001b[1;33m=\u001b[0m \u001b[1;34m\"/kaggle/input/newdata/blnw-images-224\"\u001b[0m\u001b[1;33m\u001b[0m\u001b[1;33m\u001b[0m\u001b[0m\n\u001b[1;32m----> 2\u001b[1;33m \u001b[0mos\u001b[0m\u001b[1;33m.\u001b[0m\u001b[0mchdir\u001b[0m\u001b[1;33m(\u001b[0m\u001b[0mpath\u001b[0m\u001b[1;33m)\u001b[0m\u001b[1;33m\u001b[0m\u001b[1;33m\u001b[0m\u001b[0m\n\u001b[0m\u001b[0;32m      3\u001b[0m \u001b[0mcategory_list\u001b[0m\u001b[1;33m=\u001b[0m\u001b[0mos\u001b[0m\u001b[1;33m.\u001b[0m\u001b[0mlistdir\u001b[0m\u001b[1;33m(\u001b[0m\u001b[0mpath\u001b[0m\u001b[1;33m)\u001b[0m\u001b[1;33m\u001b[0m\u001b[1;33m\u001b[0m\u001b[0m\n\u001b[0;32m      4\u001b[0m \u001b[0mcategory_list\u001b[0m\u001b[1;33m\u001b[0m\u001b[1;33m\u001b[0m\u001b[0m\n",
      "\u001b[1;31mFileNotFoundError\u001b[0m: [WinError 3] The system cannot find the path specified: '/kaggle/input/newdata/blnw-images-224'"
     ]
    }
   ],
   "source": [
    "path  = \"/kaggle/input/newdata/blnw-images-224\"\n",
    "os.chdir(path)\n",
    "category_list=os.listdir(path)\n",
    "category_list"
   ]
  },
  {
   "cell_type": "code",
   "execution_count": 48,
   "metadata": {
    "execution": {
     "iopub.execute_input": "2022-04-11T06:28:39.204897Z",
     "iopub.status.busy": "2022-04-11T06:28:39.204472Z",
     "iopub.status.idle": "2022-04-11T06:28:39.647992Z",
     "shell.execute_reply": "2022-04-11T06:28:39.647204Z",
     "shell.execute_reply.started": "2022-04-11T06:28:39.204859Z"
    }
   },
   "outputs": [],
   "source": [
    "list_of_image = glob.glob(\"**/*.png\")\n",
    "list_of_folders = glob.glob(\"**\")\n",
    "print(\"Total number of files \" + str(len(list_of_image)) )#Total data\n",
    "print(\"Total Number of classes \"+ str(len(list_of_folders))) #Total Number of classes|"
   ]
  },
  {
   "cell_type": "code",
   "execution_count": 49,
   "metadata": {
    "execution": {
     "iopub.execute_input": "2022-04-11T06:29:20.044354Z",
     "iopub.status.busy": "2022-04-11T06:29:20.044032Z",
     "iopub.status.idle": "2022-04-11T06:29:20.052167Z",
     "shell.execute_reply": "2022-04-11T06:29:20.050757Z",
     "shell.execute_reply.started": "2022-04-11T06:29:20.044322Z"
    }
   },
   "outputs": [],
   "source": [
    "#INDEX for Class number and Serial Number\n",
    "Class_Dict = {}\n",
    "for i in range(len(list_of_folders)):\n",
    "    Class_Dict[i] = list_of_folders[i] \n",
    "\n",
    "Class_Dict"
   ]
  },
  {
   "cell_type": "code",
   "execution_count": 50,
   "metadata": {
    "execution": {
     "iopub.execute_input": "2022-04-11T06:29:34.749987Z",
     "iopub.status.busy": "2022-04-11T06:29:34.749645Z",
     "iopub.status.idle": "2022-04-11T06:29:34.795654Z",
     "shell.execute_reply": "2022-04-11T06:29:34.794539Z",
     "shell.execute_reply.started": "2022-04-11T06:29:34.749952Z"
    }
   },
   "outputs": [],
   "source": [
    "# Converts the class type into integers according to their order in the folder\n",
    "# and appends to the list Y_list\n",
    "Y_list = []\n",
    "for i, data in enumerate(list_of_folders,0):\n",
    "    list_of_images_in_folder = glob.glob(data+\"/*.png\") #check for .JPEG or .jpg or .png\n",
    "    for j in list_of_images_in_folder:\n",
    "        Y_list.append(i)\n",
    "\n",
    "Y = np.asarray(Y_list)\n",
    "Y = Y.reshape(-1,1)\n",
    "Y.shape"
   ]
  },
  {
   "cell_type": "code",
   "execution_count": 52,
   "metadata": {
    "execution": {
     "iopub.execute_input": "2022-04-11T06:30:22.228070Z",
     "iopub.status.busy": "2022-04-11T06:30:22.226480Z",
     "iopub.status.idle": "2022-04-11T06:30:22.237684Z",
     "shell.execute_reply": "2022-04-11T06:30:22.236710Z",
     "shell.execute_reply.started": "2022-04-11T06:30:22.227992Z"
    }
   },
   "outputs": [],
   "source": [
    "# to Count the number of files in each category(i.e. folder). \n",
    "# Compare with number of files in the folder.\n",
    "np.unique(Y)\n",
    "unique, counts = np.unique(Y, return_counts=True)\n",
    "dict(zip(unique, counts)) "
   ]
  },
  {
   "cell_type": "code",
   "execution_count": 53,
   "metadata": {
    "execution": {
     "iopub.execute_input": "2022-04-11T06:30:31.927426Z",
     "iopub.status.busy": "2022-04-11T06:30:31.927100Z",
     "iopub.status.idle": "2022-04-11T06:31:21.381460Z",
     "shell.execute_reply": "2022-04-11T06:31:21.380409Z",
     "shell.execute_reply.started": "2022-04-11T06:30:31.927393Z"
    }
   },
   "outputs": [],
   "source": [
    "image_list = []\n",
    "for i,each in enumerate(list_of_image,1):\n",
    "    im = imread(each, as_gray = True) #Convert images to gray and read as an array \n",
    "    image_list.append(im) #add to this list"
   ]
  },
  {
   "cell_type": "code",
   "execution_count": 54,
   "metadata": {
    "execution": {
     "iopub.execute_input": "2022-04-11T06:31:21.383860Z",
     "iopub.status.busy": "2022-04-11T06:31:21.383567Z",
     "iopub.status.idle": "2022-04-11T06:31:22.944358Z",
     "shell.execute_reply": "2022-04-11T06:31:22.943477Z",
     "shell.execute_reply.started": "2022-04-11T06:31:21.383826Z"
    }
   },
   "outputs": [],
   "source": [
    "X = np.asarray(image_list) #Convert the list into array\n",
    "X.shape"
   ]
  },
  {
   "cell_type": "code",
   "execution_count": 55,
   "metadata": {
    "execution": {
     "iopub.execute_input": "2022-04-11T06:31:22.945893Z",
     "iopub.status.busy": "2022-04-11T06:31:22.945658Z",
     "iopub.status.idle": "2022-04-11T06:31:22.952494Z",
     "shell.execute_reply": "2022-04-11T06:31:22.951723Z",
     "shell.execute_reply.started": "2022-04-11T06:31:22.945863Z"
    }
   },
   "outputs": [],
   "source": [
    "X_ref = X #To keep the dimensions\n",
    "X = X.reshape(-1, X_ref.shape[1],X_ref.shape[2], 1) #Convert to format usable by our model\n",
    "X.shape"
   ]
  },
  {
   "cell_type": "code",
   "execution_count": 56,
   "metadata": {
    "execution": {
     "iopub.execute_input": "2022-04-11T06:31:22.954301Z",
     "iopub.status.busy": "2022-04-11T06:31:22.953998Z",
     "iopub.status.idle": "2022-04-11T06:31:23.154751Z",
     "shell.execute_reply": "2022-04-11T06:31:23.153750Z",
     "shell.execute_reply.started": "2022-04-11T06:31:22.954268Z"
    }
   },
   "outputs": [],
   "source": [
    "#Visualise an image \n",
    "plt.imshow(X[0].reshape(X_ref.shape[1],X_ref.shape[2]), cmap = plt.cm.binary)\n",
    "plt.show()"
   ]
  },
  {
   "cell_type": "code",
   "execution_count": 57,
   "metadata": {
    "execution": {
     "iopub.execute_input": "2022-04-11T06:31:23.156502Z",
     "iopub.status.busy": "2022-04-11T06:31:23.156192Z",
     "iopub.status.idle": "2022-04-11T06:31:32.489759Z",
     "shell.execute_reply": "2022-04-11T06:31:32.488432Z",
     "shell.execute_reply.started": "2022-04-11T06:31:23.156471Z"
    }
   },
   "outputs": [],
   "source": [
    "#Visualisation for classes\n",
    "plt.figure(figsize=(20,20));\n",
    "n = 2 #Class number {0: 'nut', 1: 'locatingpin', 2: 'bolt', 3: 'washer'}\n",
    "num = 100 #num of data to visualize from the cluster\n",
    "for i in range(1,num): \n",
    "    plt.subplot(10, 10, i); #(Number of rows, Number of column per row, item number)\n",
    "    plt.imshow(X[i+(1904*n)].reshape(X.shape[1], X.shape[2]), cmap = plt.cm.binary);\n",
    "    \n",
    "plt.show()"
   ]
  },
  {
   "cell_type": "code",
   "execution_count": 58,
   "metadata": {
    "execution": {
     "iopub.execute_input": "2022-04-11T06:31:41.337634Z",
     "iopub.status.busy": "2022-04-11T06:31:41.336785Z",
     "iopub.status.idle": "2022-04-11T06:31:43.262667Z",
     "shell.execute_reply": "2022-04-11T06:31:43.261703Z",
     "shell.execute_reply.started": "2022-04-11T06:31:41.337591Z"
    }
   },
   "outputs": [],
   "source": [
    "#Training split\n",
    "X_train, X_test, y_train, y_test = train_test_split(X, Y, train_size=0.8,test_size=0.2, random_state=1) "
   ]
  },
  {
   "cell_type": "code",
   "execution_count": 59,
   "metadata": {
    "execution": {
     "iopub.execute_input": "2022-04-11T06:31:50.387253Z",
     "iopub.status.busy": "2022-04-11T06:31:50.386930Z",
     "iopub.status.idle": "2022-04-11T06:31:50.394440Z",
     "shell.execute_reply": "2022-04-11T06:31:50.393586Z",
     "shell.execute_reply.started": "2022-04-11T06:31:50.387202Z"
    }
   },
   "outputs": [],
   "source": [
    "print(\"Shape of training data \" + str(X_train.shape) )\n",
    "print(\"Shape of testing data \"+ str(X_test.shape) )\n",
    "print(\"Shape of training label \"+ str(y_train.shape) )\n",
    "print(\"Shape of testing label \"+ str(y_test.shape) )"
   ]
  },
  {
   "cell_type": "code",
   "execution_count": 60,
   "metadata": {
    "execution": {
     "iopub.execute_input": "2022-04-11T06:31:58.417390Z",
     "iopub.status.busy": "2022-04-11T06:31:58.416846Z",
     "iopub.status.idle": "2022-04-11T06:31:58.423163Z",
     "shell.execute_reply": "2022-04-11T06:31:58.422514Z",
     "shell.execute_reply.started": "2022-04-11T06:31:58.417353Z"
    }
   },
   "outputs": [],
   "source": [
    "Y_train_one_hot = to_categorical(y_train)\n",
    "Y_train_one_hot.shape #One hot encoding of Y"
   ]
  },
  {
   "cell_type": "code",
   "execution_count": 62,
   "metadata": {
    "execution": {
     "iopub.execute_input": "2022-04-11T06:32:47.578691Z",
     "iopub.status.busy": "2022-04-11T06:32:47.577636Z",
     "iopub.status.idle": "2022-04-11T06:32:47.731091Z",
     "shell.execute_reply": "2022-04-11T06:32:47.730024Z",
     "shell.execute_reply.started": "2022-04-11T06:32:47.578642Z"
    }
   },
   "outputs": [],
   "source": [
    "#Creation of a CNN . Sequential Model\n",
    "model = Sequential()\n",
    "model.add(Conv2D(64, (3,3), input_shape=(224, 224, 1))) #input_shape matches our input image\n",
    "model.add(Activation('relu'))\n",
    "model.add(MaxPooling2D(pool_size=(2,2)))\n",
    "model.add(Conv2D(64, (3,3)))\n",
    "model.add(Activation('relu'))\n",
    "model.add(MaxPooling2D(pool_size=(2,2)))\n",
    "model.add(Flatten())\n",
    "model.add(Dense(64))\n",
    "model.add(Dense(4)) #data of four types\n",
    "model.add(Activation('softmax'))\n",
    "model.compile(loss=keras.losses.categorical_crossentropy, \n",
    "              optimizer=keras.optimizers.Adam(),metrics=['accuracy'])"
   ]
  },
  {
   "cell_type": "code",
   "execution_count": 63,
   "metadata": {
    "execution": {
     "iopub.execute_input": "2022-04-11T06:32:56.402584Z",
     "iopub.status.busy": "2022-04-11T06:32:56.402277Z",
     "iopub.status.idle": "2022-04-11T06:32:56.414533Z",
     "shell.execute_reply": "2022-04-11T06:32:56.413432Z",
     "shell.execute_reply.started": "2022-04-11T06:32:56.402550Z"
    }
   },
   "outputs": [],
   "source": [
    "model.summary()"
   ]
  },
  {
   "cell_type": "code",
   "execution_count": 64,
   "metadata": {
    "execution": {
     "iopub.execute_input": "2022-04-11T06:33:54.657190Z",
     "iopub.status.busy": "2022-04-11T06:33:54.656512Z",
     "iopub.status.idle": "2022-04-11T06:33:54.660823Z",
     "shell.execute_reply": "2022-04-11T06:33:54.660205Z",
     "shell.execute_reply.started": "2022-04-11T06:33:54.657155Z"
    }
   },
   "outputs": [],
   "source": [
    "Y_test_one_hot = to_categorical(y_test)"
   ]
  },
  {
   "cell_type": "code",
   "execution_count": 65,
   "metadata": {
    "execution": {
     "iopub.execute_input": "2022-04-11T06:34:09.057526Z",
     "iopub.status.busy": "2022-04-11T06:34:09.057078Z",
     "iopub.status.idle": "2022-04-11T07:46:36.396922Z",
     "shell.execute_reply": "2022-04-11T07:46:36.395636Z",
     "shell.execute_reply.started": "2022-04-11T06:34:09.057485Z"
    }
   },
   "outputs": [],
   "source": [
    "no_epochs = 15\n",
    "history = model.fit(X_train, Y_train_one_hot, batch_size=64, \n",
    "                    epochs = no_epochs, \n",
    "                    validation_data=(X_test, Y_test_one_hot)) #Actual Training of model"
   ]
  },
  {
   "cell_type": "code",
   "execution_count": 66,
   "metadata": {
    "execution": {
     "iopub.execute_input": "2022-04-11T07:46:36.402319Z",
     "iopub.status.busy": "2022-04-11T07:46:36.401150Z",
     "iopub.status.idle": "2022-04-11T07:46:36.688415Z",
     "shell.execute_reply": "2022-04-11T07:46:36.687312Z",
     "shell.execute_reply.started": "2022-04-11T07:46:36.402261Z"
    }
   },
   "outputs": [],
   "source": [
    "loss_train = history.history['loss']\n",
    "loss_val = history.history['val_loss']\n",
    "epochs = range(1,no_epochs+1)\n",
    "plt.plot(epochs, loss_train, 'g', label='Training loss')\n",
    "plt.plot(epochs, loss_val, 'b', label='validation loss')\n",
    "plt.title('Training and Validation loss')\n",
    "plt.xlabel('Epochs')\n",
    "plt.ylabel('Loss')\n",
    "plt.legend()\n",
    "plt.show()"
   ]
  },
  {
   "cell_type": "code",
   "execution_count": 67,
   "metadata": {
    "execution": {
     "iopub.execute_input": "2022-04-11T07:46:36.692154Z",
     "iopub.status.busy": "2022-04-11T07:46:36.691353Z",
     "iopub.status.idle": "2022-04-11T07:46:36.923878Z",
     "shell.execute_reply": "2022-04-11T07:46:36.923249Z",
     "shell.execute_reply.started": "2022-04-11T07:46:36.692094Z"
    }
   },
   "outputs": [],
   "source": [
    "loss_train = history.history['accuracy']\n",
    "loss_val = history.history['val_accuracy']\n",
    "epochs = range(1,no_epochs+1)\n",
    "plt.plot(epochs, loss_train, 'g', label='Training Accuracy')\n",
    "plt.plot(epochs, loss_val, 'b', label='validation Accuracy')\n",
    "plt.title('Training and Validation accuracy')\n",
    "plt.xlabel('Epochs')\n",
    "plt.ylabel('Accuracy')\n",
    "plt.legend()\n",
    "plt.show()"
   ]
  },
  {
   "cell_type": "code",
   "execution_count": 68,
   "metadata": {
    "execution": {
     "iopub.execute_input": "2022-04-11T07:46:58.792637Z",
     "iopub.status.busy": "2022-04-11T07:46:58.792317Z",
     "iopub.status.idle": "2022-04-11T07:47:15.558286Z",
     "shell.execute_reply": "2022-04-11T07:47:15.557466Z",
     "shell.execute_reply.started": "2022-04-11T07:46:58.792597Z"
    }
   },
   "outputs": [],
   "source": [
    "predictions = model.predict(X_test,batch_size=64, verbose=0)\n",
    "y_classes = predictions.argmax(axis=-1)\n",
    "cm = confusion_matrix(y_test, y_classes)\n",
    "print(cm)"
   ]
  },
  {
   "cell_type": "code",
   "execution_count": 70,
   "metadata": {
    "execution": {
     "iopub.execute_input": "2022-04-11T07:47:15.586377Z",
     "iopub.status.busy": "2022-04-11T07:47:15.586049Z",
     "iopub.status.idle": "2022-04-11T07:47:15.603552Z",
     "shell.execute_reply": "2022-04-11T07:47:15.602325Z",
     "shell.execute_reply.started": "2022-04-11T07:47:15.586340Z"
    }
   },
   "outputs": [],
   "source": [
    "#to print confusion matrix\n",
    "def print_cm(cm, labels, hide_zeroes=False, hide_diagonal=False, hide_threshold=None):\n",
    "    \"\"\"pretty print for confusion matrixes\"\"\"\n",
    "    columnwidth = max([len(x) for x in labels] + [5])  # 5 is value length\n",
    "    empty_cell = \" \" * columnwidth\n",
    "    # Print header\n",
    "    print(\"    \" + empty_cell, end=\" \")\n",
    "    for label in labels:\n",
    "        print(\"%{0}s\".format(columnwidth) % label, end=\" \")\n",
    "    print()\n",
    "    # Print rows\n",
    "    for i, label1 in enumerate(labels):\n",
    "        print(\"    %{0}s\".format(columnwidth) % label1, end=\" \")\n",
    "        for j in range(len(labels)):\n",
    "            cell = \"%{0}.1f\".format(columnwidth) % cm[i, j]\n",
    "            if hide_zeroes:\n",
    "                cell = cell if float(cm[i, j]) != 0 else empty_cell\n",
    "            if hide_diagonal:\n",
    "                cell = cell if i != j else empty_cell\n",
    "            if hide_threshold:\n",
    "                cell = cell if cm[i, j] > hide_threshold else empty_cell\n",
    "            print(cell, end=\" \")\n",
    "        print()\n",
    "\n",
    "# first generate with specified labels\n",
    "cm = confusion_matrix(y_test, y_classes)\n",
    "# then print it in a pretty way\n",
    "print_cm(cm, category_list)"
   ]
  },
  {
   "cell_type": "code",
   "execution_count": 71,
   "metadata": {
    "execution": {
     "iopub.execute_input": "2022-04-11T07:47:15.605855Z",
     "iopub.status.busy": "2022-04-11T07:47:15.605446Z",
     "iopub.status.idle": "2022-04-11T07:47:15.976781Z",
     "shell.execute_reply": "2022-04-11T07:47:15.976014Z",
     "shell.execute_reply.started": "2022-04-11T07:47:15.605807Z"
    }
   },
   "outputs": [],
   "source": [
    "array = cm\n",
    "df_cm = pd.DataFrame(array, index = [i for i in category_list],\n",
    "                  columns = [i for i in category_list])\n",
    "plt.figure(figsize = (10,7))\n",
    "sn.heatmap(df_cm, annot=True)"
   ]
  },
  {
   "cell_type": "code",
   "execution_count": null,
   "metadata": {},
   "outputs": [],
   "source": []
  }
 ],
 "metadata": {
  "kernelspec": {
   "display_name": "Python 3",
   "language": "python",
   "name": "python3"
  },
  "language_info": {
   "codemirror_mode": {
    "name": "ipython",
    "version": 3
   },
   "file_extension": ".py",
   "mimetype": "text/x-python",
   "name": "python",
   "nbconvert_exporter": "python",
   "pygments_lexer": "ipython3",
   "version": "3.8.8"
  }
 },
 "nbformat": 4,
 "nbformat_minor": 4
}
